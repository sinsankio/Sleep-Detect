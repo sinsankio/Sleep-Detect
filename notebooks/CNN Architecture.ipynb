{
 "cells": [
  {
   "cell_type": "code",
   "execution_count": 1,
   "metadata": {},
   "outputs": [],
   "source": [
    "import numpy as np\n",
    "import visualkeras as vk # pip install visualkeras\n",
    "import pandas as pd\n",
    "import seaborn as sn\n",
    "from keras.models import Sequential\n",
    "from matplotlib import pyplot as plt\n",
    "from keras.callbacks import ModelCheckpoint\n",
    "from sklearn.metrics import confusion_matrix\n",
    "from keras.preprocessing.image import ImageDataGenerator\n",
    "from keras.layers import Conv2D, MaxPooling2D, Flatten, Dense"
   ]
  },
  {
   "cell_type": "code",
   "execution_count": 4,
   "metadata": {},
   "outputs": [],
   "source": [
    "train_data = np.load(\"../numpy/train_data.npy\")\n",
    "test_data = np.load(\"../numpy/test_data.npy\")\n",
    "train_labels = np.load(\"../numpy/train_labels.npy\")\n",
    "test_labels = np.load(\"../numpy/test_labels.npy\")"
   ]
  },
  {
   "cell_type": "code",
   "execution_count": 2,
   "metadata": {},
   "outputs": [
    {
     "name": "stdout",
     "output_type": "stream",
     "text": [
      "Model: \"sequential\"\n",
      "_________________________________________________________________\n",
      " Layer (type)                Output Shape              Param #   \n",
      "=================================================================\n",
      " conv2d (Conv2D)             (None, 44, 44, 128)       3328      \n",
      "                                                                 \n",
      " max_pooling2d (MaxPooling2D  (None, 22, 22, 128)      0         \n",
      " )                                                               \n",
      "                                                                 \n",
      " conv2d_1 (Conv2D)           (None, 20, 20, 64)        73792     \n",
      "                                                                 \n",
      " max_pooling2d_1 (MaxPooling  (None, 10, 10, 64)       0         \n",
      " 2D)                                                             \n",
      "                                                                 \n",
      " conv2d_2 (Conv2D)           (None, 8, 8, 32)          18464     \n",
      "                                                                 \n",
      " max_pooling2d_2 (MaxPooling  (None, 4, 4, 32)         0         \n",
      " 2D)                                                             \n",
      "                                                                 \n",
      " flatten (Flatten)           (None, 512)               0         \n",
      "                                                                 \n",
      " dense (Dense)               (None, 256)               131328    \n",
      "                                                                 \n",
      " dense_1 (Dense)             (None, 64)                16448     \n",
      "                                                                 \n",
      " dense_2 (Dense)             (None, 2)                 130       \n",
      "                                                                 \n",
      "=================================================================\n",
      "Total params: 243,490\n",
      "Trainable params: 243,490\n",
      "Non-trainable params: 0\n",
      "_________________________________________________________________\n"
     ]
    }
   ],
   "source": [
    "model = Sequential()\n",
    "\n",
    "model.add(Conv2D(128, (5, 5), input_shape=(48, 48, 1), activation='relu'))\n",
    "model.add(MaxPooling2D(2, 2))\n",
    "\n",
    "model.add(Conv2D(64, (3, 3), activation='relu'))\n",
    "model.add(MaxPooling2D(2, 2))\n",
    "\n",
    "model.add(Conv2D(32, (3, 3), activation='relu'))\n",
    "model.add(MaxPooling2D(2, 2))\n",
    "\n",
    "model.add(Flatten())\n",
    "\n",
    "model.add(Dense(256, activation='relu'))\n",
    "model.add(Dense(64, activation='relu'))\n",
    "model.add(Dense(2, activation='softmax'))\n",
    "\n",
    "model.compile(loss='categorical_crossentropy', optimizer='adam', metrics=['accuracy'])\n",
    "model.summary()"
   ]
  },
  {
   "cell_type": "code",
   "execution_count": 142,
   "metadata": {},
   "outputs": [
    {
     "data": {
      "image/png": "[encoded data removed]",
      "text/plain": [
       "<PIL.Image.Image image mode=RGBA size=380x235 at 0x1CCD834BC10>"
      ]
     },
     "execution_count": 142,
     "metadata": {},
     "output_type": "execute_result"
    }
   ],
   "source": [
    "vk.layered_view(model)"
   ]
  },
  {
   "cell_type": "code",
   "execution_count": 143,
   "metadata": {},
   "outputs": [],
   "source": [
    "datagen = ImageDataGenerator(\n",
    "        rotation_range=20,\n",
    "        zoom_range=0.2,\n",
    "        width_shift_range=0.2,\n",
    "        height_shift_range=0.2,\n",
    "        shear_range=0.2,\n",
    "        horizontal_flip=True, \n",
    "        fill_mode=\"nearest\"\n",
    ")"
   ]
  },
  {
   "cell_type": "code",
   "execution_count": 144,
   "metadata": {},
   "outputs": [],
   "source": [
    "best_loss_checkpoint = ModelCheckpoint(\n",
    "    filepath=\"../models/best_loss_model.h5\",\n",
    "    monitor=\"loss\",\n",
    "    save_best_only=True,\n",
    "    save_weights_only=True,\n",
    "    mode=\"min\"\n",
    ")\n",
    "\n",
    "best_val_loss_checkpoint = ModelCheckpoint(\n",
    "    filepath=\"../models/best_val_loss_model.h5\",\n",
    "    monitor=\"val_loss\",\n",
    "    save_best_only=True,\n",
    "    save_weights_only=True,\n",
    "    mode=\"min\"\n",
    ")"
   ]
  },
  {
   "cell_type": "code",
   "execution_count": 145,
   "metadata": {},
   "outputs": [
    {
     "name": "stdout",
     "output_type": "stream",
     "text": [
      "Epoch 1/100\n",
      "72/72 [==============================] - 9s 116ms/step - loss: 0.6904 - accuracy: 0.5389 - val_loss: 0.5622 - val_accuracy: 0.7423\n",
      "Epoch 2/100\n",
      "72/72 [==============================] - 10s 133ms/step - loss: 0.4828 - accuracy: 0.7677 - val_loss: 0.2220 - val_accuracy: 0.9210\n",
      "Epoch 3/100\n",
      "72/72 [==============================] - 10s 132ms/step - loss: 0.3683 - accuracy: 0.8550 - val_loss: 0.1698 - val_accuracy: 0.9347\n",
      "Epoch 4/100\n",
      "72/72 [==============================] - 10s 134ms/step - loss: 0.2354 - accuracy: 0.9092 - val_loss: 0.1236 - val_accuracy: 0.9450\n",
      "Epoch 5/100\n",
      "72/72 [==============================] - 9s 117ms/step - loss: 0.1852 - accuracy: 0.9310 - val_loss: 0.1241 - val_accuracy: 0.9553\n",
      "Epoch 6/100\n",
      "72/72 [==============================] - 9s 121ms/step - loss: 0.1667 - accuracy: 0.9432 - val_loss: 0.1028 - val_accuracy: 0.9622\n",
      "Epoch 7/100\n",
      "72/72 [==============================] - 8s 118ms/step - loss: 0.1380 - accuracy: 0.9493 - val_loss: 0.1108 - val_accuracy: 0.9622\n",
      "Epoch 8/100\n",
      "72/72 [==============================] - 8s 109ms/step - loss: 0.1340 - accuracy: 0.9563 - val_loss: 0.1192 - val_accuracy: 0.9485\n",
      "Epoch 9/100\n",
      "72/72 [==============================] - 9s 126ms/step - loss: 0.1257 - accuracy: 0.9493 - val_loss: 0.1196 - val_accuracy: 0.9519\n",
      "Epoch 10/100\n",
      "72/72 [==============================] - 9s 123ms/step - loss: 0.1125 - accuracy: 0.9572 - val_loss: 0.0809 - val_accuracy: 0.9656\n",
      "Epoch 11/100\n",
      "72/72 [==============================] - 8s 113ms/step - loss: 0.1224 - accuracy: 0.9537 - val_loss: 0.0950 - val_accuracy: 0.9622\n",
      "Epoch 12/100\n",
      "72/72 [==============================] - 8s 114ms/step - loss: 0.1041 - accuracy: 0.9598 - val_loss: 0.0938 - val_accuracy: 0.9656\n",
      "Epoch 13/100\n",
      "72/72 [==============================] - 8s 114ms/step - loss: 0.1054 - accuracy: 0.9598 - val_loss: 0.1317 - val_accuracy: 0.9450\n",
      "Epoch 14/100\n",
      "72/72 [==============================] - 8s 117ms/step - loss: 0.0942 - accuracy: 0.9694 - val_loss: 0.0761 - val_accuracy: 0.9759\n",
      "Epoch 15/100\n",
      "72/72 [==============================] - 9s 120ms/step - loss: 0.0793 - accuracy: 0.9694 - val_loss: 0.0600 - val_accuracy: 0.9656\n",
      "Epoch 16/100\n",
      "72/72 [==============================] - 8s 112ms/step - loss: 0.1071 - accuracy: 0.9581 - val_loss: 0.1082 - val_accuracy: 0.9588\n",
      "Epoch 17/100\n",
      "72/72 [==============================] - 8s 116ms/step - loss: 0.0974 - accuracy: 0.9651 - val_loss: 0.0599 - val_accuracy: 0.9828\n",
      "Epoch 18/100\n",
      "72/72 [==============================] - 8s 116ms/step - loss: 0.0889 - accuracy: 0.9651 - val_loss: 0.0567 - val_accuracy: 0.9794\n",
      "Epoch 19/100\n",
      "72/72 [==============================] - 8s 117ms/step - loss: 0.0923 - accuracy: 0.9755 - val_loss: 0.0523 - val_accuracy: 0.9828\n",
      "Epoch 20/100\n",
      "72/72 [==============================] - 9s 129ms/step - loss: 0.0813 - accuracy: 0.9721 - val_loss: 0.0535 - val_accuracy: 0.9794\n",
      "Epoch 21/100\n",
      "72/72 [==============================] - 8s 117ms/step - loss: 0.0832 - accuracy: 0.9721 - val_loss: 0.0522 - val_accuracy: 0.9759\n",
      "Epoch 22/100\n",
      "72/72 [==============================] - 9s 130ms/step - loss: 0.0763 - accuracy: 0.9755 - val_loss: 0.0423 - val_accuracy: 0.9794\n",
      "Epoch 23/100\n",
      "72/72 [==============================] - 11s 148ms/step - loss: 0.0658 - accuracy: 0.9773 - val_loss: 0.0310 - val_accuracy: 0.9897\n",
      "Epoch 24/100\n",
      "72/72 [==============================] - 10s 142ms/step - loss: 0.0542 - accuracy: 0.9808 - val_loss: 0.0431 - val_accuracy: 0.9828\n",
      "Epoch 25/100\n",
      "72/72 [==============================] - 9s 127ms/step - loss: 0.0924 - accuracy: 0.9712 - val_loss: 0.0370 - val_accuracy: 0.9897\n",
      "Epoch 26/100\n",
      "72/72 [==============================] - 9s 122ms/step - loss: 0.0633 - accuracy: 0.9764 - val_loss: 0.0373 - val_accuracy: 0.9759\n",
      "Epoch 27/100\n",
      "72/72 [==============================] - 10s 144ms/step - loss: 0.0831 - accuracy: 0.9686 - val_loss: 0.0444 - val_accuracy: 0.9828\n",
      "Epoch 28/100\n",
      "72/72 [==============================] - 11s 154ms/step - loss: 0.0688 - accuracy: 0.9755 - val_loss: 0.0413 - val_accuracy: 0.9794\n",
      "Epoch 29/100\n",
      "72/72 [==============================] - 9s 129ms/step - loss: 0.0454 - accuracy: 0.9773 - val_loss: 0.0336 - val_accuracy: 0.9828\n",
      "Epoch 30/100\n",
      "72/72 [==============================] - 9s 118ms/step - loss: 0.0759 - accuracy: 0.9773 - val_loss: 0.0390 - val_accuracy: 0.9828\n",
      "Epoch 31/100\n",
      "72/72 [==============================] - 9s 122ms/step - loss: 0.0584 - accuracy: 0.9799 - val_loss: 0.0542 - val_accuracy: 0.9794\n",
      "Epoch 32/100\n",
      "72/72 [==============================] - 8s 109ms/step - loss: 0.0572 - accuracy: 0.9799 - val_loss: 0.0329 - val_accuracy: 0.9931\n",
      "Epoch 33/100\n",
      "72/72 [==============================] - 8s 107ms/step - loss: 0.0536 - accuracy: 0.9799 - val_loss: 0.0435 - val_accuracy: 0.9828\n",
      "Epoch 34/100\n",
      "72/72 [==============================] - 8s 115ms/step - loss: 0.0524 - accuracy: 0.9799 - val_loss: 0.0352 - val_accuracy: 0.9863\n",
      "Epoch 35/100\n",
      "72/72 [==============================] - 9s 119ms/step - loss: 0.0552 - accuracy: 0.9799 - val_loss: 0.0503 - val_accuracy: 0.9759\n",
      "Epoch 36/100\n",
      "72/72 [==============================] - 8s 114ms/step - loss: 0.0649 - accuracy: 0.9773 - val_loss: 0.0290 - val_accuracy: 0.9931\n",
      "Epoch 37/100\n",
      "72/72 [==============================] - 10s 136ms/step - loss: 0.0499 - accuracy: 0.9843 - val_loss: 0.0264 - val_accuracy: 0.9897\n",
      "Epoch 38/100\n",
      "72/72 [==============================] - 9s 119ms/step - loss: 0.0545 - accuracy: 0.9825 - val_loss: 0.0358 - val_accuracy: 0.9794\n",
      "Epoch 39/100\n",
      "72/72 [==============================] - 10s 135ms/step - loss: 0.0340 - accuracy: 0.9852 - val_loss: 0.0345 - val_accuracy: 0.9828\n",
      "Epoch 40/100\n",
      "72/72 [==============================] - 9s 127ms/step - loss: 0.0358 - accuracy: 0.9852 - val_loss: 0.0213 - val_accuracy: 0.9897\n",
      "Epoch 41/100\n",
      "72/72 [==============================] - 8s 111ms/step - loss: 0.0497 - accuracy: 0.9817 - val_loss: 0.0127 - val_accuracy: 1.0000\n",
      "Epoch 42/100\n",
      "72/72 [==============================] - 8s 111ms/step - loss: 0.0619 - accuracy: 0.9817 - val_loss: 0.0495 - val_accuracy: 0.9828\n",
      "Epoch 43/100\n",
      "72/72 [==============================] - 8s 115ms/step - loss: 0.0429 - accuracy: 0.9860 - val_loss: 0.0224 - val_accuracy: 0.9897\n",
      "Epoch 44/100\n",
      "72/72 [==============================] - 8s 110ms/step - loss: 0.0287 - accuracy: 0.9895 - val_loss: 0.0663 - val_accuracy: 0.9828\n",
      "Epoch 45/100\n",
      "72/72 [==============================] - 8s 106ms/step - loss: 0.0363 - accuracy: 0.9860 - val_loss: 0.0148 - val_accuracy: 0.9931\n",
      "Epoch 46/100\n",
      "72/72 [==============================] - 8s 108ms/step - loss: 0.0196 - accuracy: 0.9921 - val_loss: 0.0463 - val_accuracy: 0.9863\n",
      "Epoch 47/100\n",
      "72/72 [==============================] - 9s 122ms/step - loss: 0.0403 - accuracy: 0.9852 - val_loss: 0.0284 - val_accuracy: 0.9897\n",
      "Epoch 48/100\n",
      "72/72 [==============================] - 8s 108ms/step - loss: 0.0654 - accuracy: 0.9755 - val_loss: 0.0377 - val_accuracy: 0.9863\n",
      "Epoch 49/100\n",
      "72/72 [==============================] - 8s 106ms/step - loss: 0.0448 - accuracy: 0.9817 - val_loss: 0.0226 - val_accuracy: 0.9863\n",
      "Epoch 50/100\n",
      "72/72 [==============================] - 8s 110ms/step - loss: 0.0327 - accuracy: 0.9895 - val_loss: 0.0144 - val_accuracy: 0.9931\n",
      "Epoch 51/100\n",
      "72/72 [==============================] - 8s 116ms/step - loss: 0.0459 - accuracy: 0.9825 - val_loss: 0.0192 - val_accuracy: 0.9931\n",
      "Epoch 52/100\n",
      "72/72 [==============================] - 8s 113ms/step - loss: 0.0292 - accuracy: 0.9869 - val_loss: 0.0169 - val_accuracy: 0.9931\n",
      "Epoch 53/100\n",
      "72/72 [==============================] - 9s 127ms/step - loss: 0.0240 - accuracy: 0.9913 - val_loss: 0.0124 - val_accuracy: 0.9966\n",
      "Epoch 54/100\n",
      "72/72 [==============================] - 10s 139ms/step - loss: 0.0302 - accuracy: 0.9886 - val_loss: 0.0339 - val_accuracy: 0.9863\n",
      "Epoch 55/100\n",
      "72/72 [==============================] - 10s 143ms/step - loss: 0.0462 - accuracy: 0.9843 - val_loss: 0.0123 - val_accuracy: 0.9931\n",
      "Epoch 56/100\n",
      "72/72 [==============================] - 10s 132ms/step - loss: 0.0312 - accuracy: 0.9895 - val_loss: 0.0244 - val_accuracy: 0.9931\n",
      "Epoch 57/100\n",
      "72/72 [==============================] - 10s 144ms/step - loss: 0.0479 - accuracy: 0.9843 - val_loss: 0.0194 - val_accuracy: 0.9897\n",
      "Epoch 58/100\n",
      "72/72 [==============================] - 10s 143ms/step - loss: 0.0397 - accuracy: 0.9860 - val_loss: 0.0373 - val_accuracy: 0.9863\n",
      "Epoch 59/100\n",
      "72/72 [==============================] - 10s 136ms/step - loss: 0.0444 - accuracy: 0.9834 - val_loss: 0.0214 - val_accuracy: 0.9897\n",
      "Epoch 60/100\n",
      "72/72 [==============================] - 9s 123ms/step - loss: 0.0346 - accuracy: 0.9860 - val_loss: 0.0150 - val_accuracy: 0.9966\n",
      "Epoch 61/100\n",
      "72/72 [==============================] - 9s 130ms/step - loss: 0.0358 - accuracy: 0.9939 - val_loss: 0.0199 - val_accuracy: 0.9931\n",
      "Epoch 62/100\n",
      "72/72 [==============================] - 10s 134ms/step - loss: 0.0169 - accuracy: 0.9956 - val_loss: 0.0077 - val_accuracy: 0.9966\n",
      "Epoch 63/100\n",
      "72/72 [==============================] - 9s 127ms/step - loss: 0.0235 - accuracy: 0.9886 - val_loss: 0.0393 - val_accuracy: 0.9863\n",
      "Epoch 64/100\n",
      "72/72 [==============================] - 9s 124ms/step - loss: 0.0448 - accuracy: 0.9895 - val_loss: 0.0069 - val_accuracy: 0.9966\n",
      "Epoch 65/100\n",
      "72/72 [==============================] - 9s 122ms/step - loss: 0.0337 - accuracy: 0.9895 - val_loss: 0.0069 - val_accuracy: 0.9966\n",
      "Epoch 66/100\n",
      "72/72 [==============================] - 9s 122ms/step - loss: 0.0266 - accuracy: 0.9913 - val_loss: 0.0109 - val_accuracy: 0.9966\n",
      "Epoch 67/100\n",
      "72/72 [==============================] - 9s 126ms/step - loss: 0.0209 - accuracy: 0.9939 - val_loss: 0.0173 - val_accuracy: 0.9931\n",
      "Epoch 68/100\n",
      "72/72 [==============================] - 9s 123ms/step - loss: 0.0383 - accuracy: 0.9843 - val_loss: 0.0201 - val_accuracy: 0.9931\n",
      "Epoch 69/100\n",
      "72/72 [==============================] - 9s 120ms/step - loss: 0.0320 - accuracy: 0.9921 - val_loss: 0.0114 - val_accuracy: 0.9966\n",
      "Epoch 70/100\n",
      "72/72 [==============================] - 8s 117ms/step - loss: 0.0252 - accuracy: 0.9895 - val_loss: 0.0127 - val_accuracy: 0.9966\n",
      "Epoch 71/100\n",
      "72/72 [==============================] - 9s 121ms/step - loss: 0.0253 - accuracy: 0.9895 - val_loss: 0.0162 - val_accuracy: 0.9897\n",
      "Epoch 72/100\n",
      "72/72 [==============================] - 8s 116ms/step - loss: 0.0261 - accuracy: 0.9921 - val_loss: 0.0207 - val_accuracy: 0.9931\n",
      "Epoch 73/100\n",
      "72/72 [==============================] - 8s 113ms/step - loss: 0.0194 - accuracy: 0.9948 - val_loss: 0.0228 - val_accuracy: 0.9931\n",
      "Epoch 74/100\n",
      "72/72 [==============================] - 8s 117ms/step - loss: 0.0225 - accuracy: 0.9904 - val_loss: 0.0186 - val_accuracy: 0.9966\n",
      "Epoch 75/100\n",
      "72/72 [==============================] - 8s 110ms/step - loss: 0.0268 - accuracy: 0.9895 - val_loss: 0.0186 - val_accuracy: 0.9931\n",
      "Epoch 76/100\n",
      "72/72 [==============================] - 8s 113ms/step - loss: 0.0460 - accuracy: 0.9852 - val_loss: 0.0339 - val_accuracy: 0.9828\n",
      "Epoch 77/100\n",
      "72/72 [==============================] - 7s 102ms/step - loss: 0.0376 - accuracy: 0.9895 - val_loss: 0.0301 - val_accuracy: 0.9863\n",
      "Epoch 78/100\n",
      "72/72 [==============================] - 8s 106ms/step - loss: 0.0382 - accuracy: 0.9886 - val_loss: 0.0273 - val_accuracy: 0.9897\n",
      "Epoch 79/100\n",
      "72/72 [==============================] - 8s 109ms/step - loss: 0.0225 - accuracy: 0.9921 - val_loss: 0.0066 - val_accuracy: 0.9966\n",
      "Epoch 80/100\n",
      "72/72 [==============================] - 8s 108ms/step - loss: 0.0229 - accuracy: 0.9921 - val_loss: 0.0181 - val_accuracy: 0.9931\n",
      "Epoch 81/100\n",
      "72/72 [==============================] - 7s 103ms/step - loss: 0.0280 - accuracy: 0.9904 - val_loss: 0.0184 - val_accuracy: 0.9966\n",
      "Epoch 82/100\n",
      "72/72 [==============================] - 7s 104ms/step - loss: 0.0308 - accuracy: 0.9852 - val_loss: 0.0104 - val_accuracy: 0.9966\n",
      "Epoch 83/100\n",
      "72/72 [==============================] - 8s 112ms/step - loss: 0.0143 - accuracy: 0.9956 - val_loss: 0.0181 - val_accuracy: 0.9931\n",
      "Epoch 84/100\n",
      "72/72 [==============================] - 7s 103ms/step - loss: 0.0341 - accuracy: 0.9878 - val_loss: 0.0188 - val_accuracy: 0.9931\n",
      "Epoch 85/100\n",
      "72/72 [==============================] - 8s 105ms/step - loss: 0.0154 - accuracy: 0.9939 - val_loss: 0.0061 - val_accuracy: 0.9966\n",
      "Epoch 86/100\n",
      "72/72 [==============================] - 8s 105ms/step - loss: 0.0105 - accuracy: 0.9956 - val_loss: 0.0076 - val_accuracy: 0.9966\n",
      "Epoch 87/100\n",
      "72/72 [==============================] - 8s 104ms/step - loss: 0.0247 - accuracy: 0.9913 - val_loss: 0.0130 - val_accuracy: 0.9966\n",
      "Epoch 88/100\n",
      "72/72 [==============================] - 7s 103ms/step - loss: 0.0445 - accuracy: 0.9817 - val_loss: 0.0250 - val_accuracy: 0.9863\n",
      "Epoch 89/100\n",
      "72/72 [==============================] - 7s 101ms/step - loss: 0.0247 - accuracy: 0.9930 - val_loss: 0.0077 - val_accuracy: 0.9966\n",
      "Epoch 90/100\n",
      "72/72 [==============================] - 8s 110ms/step - loss: 0.0229 - accuracy: 0.9939 - val_loss: 0.0140 - val_accuracy: 0.9931\n",
      "Epoch 91/100\n",
      "72/72 [==============================] - 11s 151ms/step - loss: 0.0070 - accuracy: 0.9983 - val_loss: 0.0085 - val_accuracy: 0.9966\n",
      "Epoch 92/100\n",
      "72/72 [==============================] - 10s 140ms/step - loss: 0.0194 - accuracy: 0.9965 - val_loss: 0.0060 - val_accuracy: 0.9966\n",
      "Epoch 93/100\n",
      "72/72 [==============================] - 7s 101ms/step - loss: 0.0202 - accuracy: 0.9956 - val_loss: 0.0561 - val_accuracy: 0.9828\n",
      "Epoch 94/100\n",
      "72/72 [==============================] - 8s 104ms/step - loss: 0.0440 - accuracy: 0.9860 - val_loss: 0.0102 - val_accuracy: 0.9966\n",
      "Epoch 95/100\n",
      "72/72 [==============================] - 9s 127ms/step - loss: 0.0233 - accuracy: 0.9913 - val_loss: 0.0036 - val_accuracy: 1.0000\n",
      "Epoch 96/100\n",
      "72/72 [==============================] - 10s 140ms/step - loss: 0.0219 - accuracy: 0.9948 - val_loss: 0.0038 - val_accuracy: 0.9966\n",
      "Epoch 97/100\n",
      "72/72 [==============================] - 10s 135ms/step - loss: 0.0318 - accuracy: 0.9895 - val_loss: 0.0086 - val_accuracy: 0.9931\n",
      "Epoch 98/100\n",
      "72/72 [==============================] - 10s 142ms/step - loss: 0.0126 - accuracy: 0.9939 - val_loss: 0.0024 - val_accuracy: 1.0000\n",
      "Epoch 99/100\n",
      "72/72 [==============================] - 10s 140ms/step - loss: 0.0216 - accuracy: 0.9913 - val_loss: 0.0119 - val_accuracy: 0.9931\n",
      "Epoch 100/100\n",
      "72/72 [==============================] - 10s 138ms/step - loss: 0.0272 - accuracy: 0.9913 - val_loss: 0.0081 - val_accuracy: 1.0000\n"
     ]
    }
   ],
   "source": [
    "bs = 16\n",
    "\n",
    "history = model.fit(\n",
    "    datagen.flow(\n",
    "        train_data,\n",
    "        train_labels,\n",
    "        batch_size=bs\n",
    "    ),\n",
    "    steps_per_epoch=len(train_data)//bs,\n",
    "    validation_data=(test_data, test_labels),\n",
    "    epochs=100,\n",
    "    callbacks=[best_loss_checkpoint, best_val_loss_checkpoint]\n",
    ")"
   ]
  },
  {
   "cell_type": "code",
   "execution_count": 146,
   "metadata": {},
   "outputs": [
    {
     "data": {
      "image/png": "[encoded data removed]",
      "text/plain": [
       "<Figure size 432x288 with 1 Axes>"
      ]
     },
     "metadata": {
      "needs_background": "light"
     },
     "output_type": "display_data"
    }
   ],
   "source": [
    "plt.plot(history.history[\"loss\"], 'b', label=\"loss\")\n",
    "plt.plot(history.history[\"val_loss\"], 'r', label=\"val_loss\")\n",
    "plt.xlabel(\"epoch\")\n",
    "plt.ylabel(\"frequency\")\n",
    "plt.legend()\n",
    "plt.show()"
   ]
  },
  {
   "cell_type": "code",
   "execution_count": 147,
   "metadata": {},
   "outputs": [
    {
     "data": {
      "image/png": "[encoded data removed]",
      "text/plain": [
       "<Figure size 432x288 with 1 Axes>"
      ]
     },
     "metadata": {
      "needs_background": "light"
     },
     "output_type": "display_data"
    }
   ],
   "source": [
    "plt.plot(history.history[\"accuracy\"], 'b', label=\"acc\")\n",
    "plt.plot(history.history[\"val_accuracy\"], 'r', label=\"val_acc\")\n",
    "plt.xlabel(\"epoch\")\n",
    "plt.ylabel(\"frequency\")\n",
    "plt.legend()\n",
    "plt.show()"
   ]
  },
  {
   "cell_type": "code",
   "execution_count": 3,
   "metadata": {},
   "outputs": [],
   "source": [
    "model.load_weights('../models/best_val_loss_model.h5')"
   ]
  },
  {
   "cell_type": "code",
   "execution_count": 5,
   "metadata": {},
   "outputs": [
    {
     "name": "stdout",
     "output_type": "stream",
     "text": [
      "10/10 [==============================] - 2s 52ms/step - loss: 0.0024 - accuracy: 1.0000\n"
     ]
    },
    {
     "data": {
      "text/plain": [
       "(0.0024374898057430983, 1.0)"
      ]
     },
     "execution_count": 5,
     "metadata": {},
     "output_type": "execute_result"
    }
   ],
   "source": [
    "loss, acc = model.evaluate(test_data, test_labels)\n",
    "\n",
    "loss, acc"
   ]
  },
  {
   "cell_type": "code",
   "execution_count": 6,
   "metadata": {},
   "outputs": [],
   "source": [
    "predictions = model.predict(test_data)"
   ]
  },
  {
   "cell_type": "code",
   "execution_count": 7,
   "metadata": {},
   "outputs": [
    {
     "name": "stdout",
     "output_type": "stream",
     "text": [
      "[[139   0]\n",
      " [  0 152]]\n"
     ]
    }
   ],
   "source": [
    "confusion = confusion_matrix(\n",
    "    np.argmax(test_labels, axis=1),\n",
    "    np.argmax(predictions, axis=1)\n",
    ")\n",
    "print(confusion)"
   ]
  },
  {
   "cell_type": "code",
   "execution_count": 8,
   "metadata": {},
   "outputs": [
    {
     "data": {
      "text/plain": [
       "<AxesSubplot:xlabel='predicted', ylabel='actual'>"
      ]
     },
     "execution_count": 8,
     "metadata": {},
     "output_type": "execute_result"
    },
    {
     "data": {
      "image/png": "[encoded data removed]",
      "text/plain": [
       "<Figure size 720x720 with 2 Axes>"
      ]
     },
     "metadata": {
      "needs_background": "light"
     },
     "output_type": "display_data"
    }
   ],
   "source": [
    "labels = ['Closed_Eye', 'Opened_Eye']\n",
    "\n",
    "df_cm = pd.DataFrame(confusion, columns=np.unique(labels), index = np.unique(labels))\n",
    "df_cm.index.name = 'actual'\n",
    "df_cm.columns.name = 'predicted'\n",
    "plt.figure(figsize = (10, 10))\n",
    "sn.set(font_scale=1.4) \n",
    "sn.heatmap(df_cm, cmap=\"Blues\", annot=True, annot_kws={\"size\": 15}, fmt=\"d\")"
   ]
  },
  {
   "cell_type": "code",
   "execution_count": null,
   "metadata": {},
   "outputs": [],
   "source": []
  }
 ],
 "metadata": {
  "kernelspec": {
   "display_name": "Python 3",
   "language": "python",
   "name": "python3"
  },
  "language_info": {
   "codemirror_mode": {
    "name": "ipython",
    "version": 3
   },
   "file_extension": ".py",
   "mimetype": "text/x-python",
   "name": "python",
   "nbconvert_exporter": "python",
   "pygments_lexer": "ipython3",
   "version": "3.10.2 (tags/v3.10.2:a58ebcc, Jan 17 2022, 14:12:15) [MSC v.1929 64 bit (AMD64)]"
  },
  "orig_nbformat": 4,
  "vscode": {
   "interpreter": {
    "hash": "b2b9ed2f758ea7019c62ddc2c4686da189c449cf25e556e37851562caab2f41e"
   }
  }
 },
 "nbformat": 4,
 "nbformat_minor": 2
}
