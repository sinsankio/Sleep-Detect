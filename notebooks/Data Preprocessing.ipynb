{
 "cells": [
  {
   "cell_type": "code",
   "execution_count": 20,
   "metadata": {},
   "outputs": [],
   "source": [
    "import os\n",
    "import cv2\n",
    "import numpy as np\n",
    "from keras.utils import np_utils\n",
    "from sklearn.model_selection import train_test_split"
   ]
  },
  {
   "cell_type": "code",
   "execution_count": 11,
   "metadata": {},
   "outputs": [],
   "source": [
    "raw_ds_path = r'F:\\Artificial Intelligence\\Datasets\\Drowsiness Detection Dataset with Yawning\\Eyes' \n",
    "data, target = [], []"
   ]
  },
  {
   "cell_type": "code",
   "execution_count": 12,
   "metadata": {},
   "outputs": [
    {
     "data": {
      "text/plain": [
       "['Closed', 'Open']"
      ]
     },
     "execution_count": 12,
     "metadata": {},
     "output_type": "execute_result"
    }
   ],
   "source": [
    "sub_dirs = os.listdir(raw_ds_path)\n",
    "sub_dirs"
   ]
  },
  {
   "cell_type": "code",
   "execution_count": 25,
   "metadata": {},
   "outputs": [
    {
     "data": {
      "text/plain": [
       "{'Closed': 0, 'Open': 1}"
      ]
     },
     "execution_count": 25,
     "metadata": {},
     "output_type": "execute_result"
    }
   ],
   "source": [
    "class_labels = {}\n",
    "label = 0\n",
    "\n",
    "for dir in sub_dirs:\n",
    "    class_labels[dir] = label\n",
    "    label += 1\n",
    "\n",
    "class_labels"
   ]
  },
  {
   "cell_type": "code",
   "execution_count": 14,
   "metadata": {},
   "outputs": [
    {
     "name": "stdout",
     "output_type": "stream",
     "text": [
      "(1452, 48, 48)\n",
      "(1452,)\n"
     ]
    }
   ],
   "source": [
    "for dir in sub_dirs:\n",
    "    ds_class_path = os.path.join(raw_ds_path, dir)\n",
    "    img_files = os.listdir(ds_class_path)\n",
    "\n",
    "    for file in img_files:\n",
    "        img_file_path = os.path.join(ds_class_path, file)\n",
    "        img = cv2.imread(img_file_path)\n",
    "        gray_img = cv2.cvtColor(img, cv2.COLOR_BGR2GRAY)\n",
    "        res_img = cv2.resize(gray_img, (48, 48))\n",
    "        \n",
    "        data.append(res_img)\n",
    "        target.append(class_labels[dir])\n",
    "\n",
    "data = np.array(data)\n",
    "target = np.array(target)\n",
    "\n",
    "print(data.shape)\n",
    "print(target.shape)"
   ]
  },
  {
   "cell_type": "code",
   "execution_count": 17,
   "metadata": {},
   "outputs": [],
   "source": [
    "train_data, test_data, train_labels, test_labels = train_test_split(data, target, test_size=0.2)"
   ]
  },
  {
   "cell_type": "code",
   "execution_count": 18,
   "metadata": {},
   "outputs": [
    {
     "name": "stdout",
     "output_type": "stream",
     "text": [
      "(1161, 48, 48) (1161,)\n",
      "(291, 48, 48) (291,)\n"
     ]
    }
   ],
   "source": [
    "print(train_data.shape, train_labels.shape)\n",
    "print(test_data.shape, test_labels.shape)"
   ]
  },
  {
   "cell_type": "code",
   "execution_count": 19,
   "metadata": {},
   "outputs": [],
   "source": [
    "train_data = train_data / 255\n",
    "test_data = test_data / 255"
   ]
  },
  {
   "cell_type": "code",
   "execution_count": 21,
   "metadata": {},
   "outputs": [],
   "source": [
    "train_data = np.reshape(train_data, (train_data.shape[0], train_data.shape[1], train_data.shape[2], 1))\n",
    "test_data = np.reshape(test_data, (test_data.shape[0], test_data.shape[1], test_data.shape[2], 1))\n",
    "\n",
    "train_labels = np_utils.to_categorical(train_labels)\n",
    "test_labels = np_utils.to_categorical(test_labels)"
   ]
  },
  {
   "cell_type": "code",
   "execution_count": 23,
   "metadata": {},
   "outputs": [
    {
     "name": "stdout",
     "output_type": "stream",
     "text": [
      "(1161, 48, 48, 1) (1161, 2)\n",
      "(291, 48, 48, 1) (291, 2)\n"
     ]
    }
   ],
   "source": [
    "print(train_data.shape, train_labels.shape)\n",
    "print(test_data.shape, test_labels.shape)"
   ]
  },
  {
   "cell_type": "code",
   "execution_count": 22,
   "metadata": {},
   "outputs": [],
   "source": [
    "np.save(\"../numpy/train_data.npy\", train_data)\n",
    "np.save(\"../numpy/test_data.npy\", test_data)\n",
    "np.save(\"../numpy/train_labels.npy\", train_labels)\n",
    "np.save(\"../numpy/test_labels.npy\", test_labels)"
   ]
  },
  {
   "cell_type": "code",
   "execution_count": null,
   "metadata": {},
   "outputs": [],
   "source": []
  }
 ],
 "metadata": {
  "kernelspec": {
   "display_name": "Python 3",
   "language": "python",
   "name": "python3"
  },
  "language_info": {
   "codemirror_mode": {
    "name": "ipython",
    "version": 3
   },
   "file_extension": ".py",
   "mimetype": "text/x-python",
   "name": "python",
   "nbconvert_exporter": "python",
   "pygments_lexer": "ipython3",
   "version": "3.10.2 (tags/v3.10.2:a58ebcc, Jan 17 2022, 14:12:15) [MSC v.1929 64 bit (AMD64)]"
  },
  "orig_nbformat": 4,
  "vscode": {
   "interpreter": {
    "hash": "b2b9ed2f758ea7019c62ddc2c4686da189c449cf25e556e37851562caab2f41e"
   }
  }
 },
 "nbformat": 4,
 "nbformat_minor": 2
}
